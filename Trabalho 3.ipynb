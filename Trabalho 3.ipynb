{
 "cells": [
  {
   "cell_type": "markdown",
   "metadata": {},
   "source": [
    "## Importando Bibliotecas"
   ]
  },
  {
   "cell_type": "code",
   "execution_count": 113,
   "metadata": {},
   "outputs": [],
   "source": [
    "import tensorflow as tf \n",
    "from tensorflow import keras\n",
    "from sklearn import metrics\n",
    "from keras.models import Sequential\n",
    "from keras.layers import Input, Dense\n",
    "import numpy as np \n",
    "import pandas as pd\n",
    "import matplotlib.pyplot as plt\n",
    "import matplotlib.pyplot as plt \n",
    "from keras.optimizers import Adam\n",
    "from keras.models import Model\n",
    "import sklearn as sk\n",
    "from sklearn.decomposition import PCA\n",
    "from sklearn.cluster import KMeans\n",
    "from sklearn.metrics import silhouette_samples, silhouette_score\n",
    "from sklearn.preprocessing import StandardScaler\n",
    "from sklearn.preprocessing import normalize\n",
    "from keras.utils import plot_model\n",
    "import time\n",
    "from sklearn.cluster import DBSCAN\n",
    "from sklearn.neighbors import NearestNeighbors\n",
    "from mpl_toolkits.mplot3d import Axes3D"
   ]
  },
  {
   "cell_type": "markdown",
   "metadata": {},
   "source": [
    "## Pre-processamento dos dados\n",
    "**Carregando os dados de treino e teste:**"
   ]
  },
  {
   "cell_type": "code",
   "execution_count": 2,
   "metadata": {},
   "outputs": [],
   "source": [
    "train_images = pd.read_csv('../fashion-mnist_train.csv')\n",
    "test_images = pd.read_csv('../fashion-mnist_test.csv')"
   ]
  },
  {
   "cell_type": "markdown",
   "metadata": {},
   "source": [
    "**Separando as labels do conjuntos:**"
   ]
  },
  {
   "cell_type": "code",
   "execution_count": 3,
   "metadata": {},
   "outputs": [],
   "source": [
    "train_labels=train_images.loc[:, ['label']]\n",
    "train_images=train_images.drop(['label'], axis=1)\n",
    "test_labels=test_images.loc[:, ['label']]\n",
    "test_images=test_images.drop(['label'], axis=1)"
   ]
  },
  {
   "cell_type": "markdown",
   "metadata": {},
   "source": [
    "**Normalizando os data-sets:**"
   ]
  },
  {
   "cell_type": "code",
   "execution_count": 4,
   "metadata": {},
   "outputs": [],
   "source": [
    "train_images = train_images / 255.0\n",
    "test_images = test_images / 255.0\n"
   ]
  },
  {
   "cell_type": "markdown",
   "metadata": {},
   "source": [
    "----------------------\n",
    "## Construção do modelo base\n",
    "**Esta rede será utilizada posteriomente para comparações entre os modelos de dimensionalidade reduzida utilizando PCA e autoencoder.**"
   ]
  },
  {
   "cell_type": "markdown",
   "metadata": {},
   "source": [
    "**Definição da estrutura do modelo por meio do Keras Sequential:**"
   ]
  },
  {
   "cell_type": "code",
   "execution_count": 5,
   "metadata": {},
   "outputs": [
    {
     "name": "stdout",
     "output_type": "stream",
     "text": [
      "Model: \"sequential\"\n",
      "_________________________________________________________________\n",
      "Layer (type)                 Output Shape              Param #   \n",
      "=================================================================\n",
      "dense (Dense)                (None, 64)                50240     \n",
      "_________________________________________________________________\n",
      "dense_1 (Dense)              (None, 128)               8320      \n",
      "_________________________________________________________________\n",
      "dense_2 (Dense)              (None, 32)                4128      \n",
      "=================================================================\n",
      "Total params: 62,688\n",
      "Trainable params: 62,688\n",
      "Non-trainable params: 0\n",
      "_________________________________________________________________\n"
     ]
    }
   ],
   "source": [
    "model = keras.Sequential([\n",
    "    keras.layers.Dense(64,activation=tf.nn.relu,input_dim=(784)),\n",
    "    keras.layers.Dense(128, activation=tf.nn.relu),\n",
    "    keras.layers.Dense(32, activation=tf.nn.softmax)\n",
    "])\n",
    "\n",
    "model.summary()"
   ]
  },
  {
   "cell_type": "markdown",
   "metadata": {},
   "source": [
    "**Compilação do modelo:**"
   ]
  },
  {
   "cell_type": "code",
   "execution_count": 6,
   "metadata": {},
   "outputs": [],
   "source": [
    "model.compile(optimizer='adam',\n",
    "              loss='sparse_categorical_crossentropy',\n",
    "              metrics=['accuracy'])"
   ]
  },
  {
   "cell_type": "markdown",
   "metadata": {},
   "source": [
    "**Treino do modelo:**"
   ]
  },
  {
   "cell_type": "code",
   "execution_count": 7,
   "metadata": {},
   "outputs": [
    {
     "name": "stdout",
     "output_type": "stream",
     "text": [
      "WARNING:tensorflow:Falling back from v2 loop because of error: Failed to find data adapter that can handle input: <class 'pandas.core.frame.DataFrame'>, <class 'NoneType'>\n",
      "Train on 48000 samples, validate on 12000 samples\n",
      "Epoch 1/10\n",
      "48000/48000 [==============================] - 6s 119us/sample - loss: 0.5500 - accuracy: 0.8060 - val_loss: 0.4538 - val_accuracy: 0.8304\n",
      "Epoch 2/10\n",
      "48000/48000 [==============================] - 5s 104us/sample - loss: 0.3905 - accuracy: 0.8566 - val_loss: 0.3851 - val_accuracy: 0.8559\n",
      "Epoch 3/10\n",
      "48000/48000 [==============================] - 4s 92us/sample - loss: 0.3526 - accuracy: 0.8704 - val_loss: 0.3573 - val_accuracy: 0.8727\n",
      "Epoch 4/10\n",
      "48000/48000 [==============================] - 4s 92us/sample - loss: 0.3263 - accuracy: 0.8801 - val_loss: 0.3514 - val_accuracy: 0.8749\n",
      "Epoch 5/10\n",
      "48000/48000 [==============================] - 4s 93us/sample - loss: 0.3113 - accuracy: 0.8856 - val_loss: 0.3472 - val_accuracy: 0.8774\n",
      "Epoch 6/10\n",
      "48000/48000 [==============================] - 4s 90us/sample - loss: 0.2932 - accuracy: 0.8906 - val_loss: 0.3605 - val_accuracy: 0.8756\n",
      "Epoch 7/10\n",
      "48000/48000 [==============================] - 5s 97us/sample - loss: 0.2829 - accuracy: 0.8941 - val_loss: 0.3307 - val_accuracy: 0.8831\n",
      "Epoch 8/10\n",
      "48000/48000 [==============================] - 6s 120us/sample - loss: 0.2688 - accuracy: 0.8992 - val_loss: 0.3446 - val_accuracy: 0.8777\n",
      "Epoch 9/10\n",
      "48000/48000 [==============================] - 7s 138us/sample - loss: 0.2606 - accuracy: 0.9020 - val_loss: 0.3472 - val_accuracy: 0.8809\n",
      "Epoch 10/10\n",
      "48000/48000 [==============================] - 7s 141us/sample - loss: 0.2517 - accuracy: 0.9056 - val_loss: 0.3298 - val_accuracy: 0.8852\n"
     ]
    }
   ],
   "source": [
    "start_time = time.time()\n",
    "history = model.fit(train_images, train_labels, epochs=10, validation_split=0.2, shuffle=True)\n",
    "end_time = time.time()"
   ]
  },
  {
   "cell_type": "code",
   "execution_count": 8,
   "metadata": {},
   "outputs": [
    {
     "data": {
      "text/plain": [
       "5.234742999076843"
      ]
     },
     "execution_count": 8,
     "metadata": {},
     "output_type": "execute_result"
    }
   ],
   "source": [
    "(end_time-start_time)/10"
   ]
  },
  {
   "cell_type": "code",
   "execution_count": 9,
   "metadata": {},
   "outputs": [
    {
     "data": {
      "image/png": "[encoded data removed]",
      "text/plain": [
       "<Figure size 432x288 with 1 Axes>"
      ]
     },
     "metadata": {
      "needs_background": "light"
     },
     "output_type": "display_data"
    }
   ],
   "source": [
    "# Grafico para analise de custo do treino e da validacao\n",
    "plt.plot(history.history['loss'])\n",
    "plt.plot(history.history['val_loss'])\n",
    "plt.title('Model loss')\n",
    "plt.ylabel('Loss')\n",
    "plt.xlabel('Epoch')\n",
    "plt.legend(['Train', 'Validation'], loc='upper left')\n",
    "plt.show()"
   ]
  },
  {
   "cell_type": "markdown",
   "metadata": {},
   "source": [
    "**Verificação dos resultados do modelo**"
   ]
  },
  {
   "cell_type": "code",
   "execution_count": 10,
   "metadata": {},
   "outputs": [
    {
     "name": "stdout",
     "output_type": "stream",
     "text": [
      "WARNING:tensorflow:Falling back from v2 loop because of error: Failed to find data adapter that can handle input: <class 'pandas.core.frame.DataFrame'>, <class 'NoneType'>\n",
      "10000/10000 [==============================] - 1s 51us/sample - loss: 0.3153 - accuracy: 0.8868\n",
      "Model - 3 layers - test loss: 31.526307719945905\n",
      "Model - 3 layers - test accuracy: 88.67999911308289\n"
     ]
    }
   ],
   "source": [
    "test_loss, test_acc = model.evaluate(test_images, test_labels)\n",
    "print(\"Model - 3 layers - test loss:\", test_loss * 100)\n",
    "print(\"Model - 3 layers - test accuracy:\", test_acc * 100)"
   ]
  },
  {
   "cell_type": "markdown",
   "metadata": {},
   "source": [
    "-----------------------------\n",
    "## Redução de Dimensionalidade Usando Principal component analysis (PCA)"
   ]
  },
  {
   "cell_type": "markdown",
   "metadata": {},
   "source": [
    "**Pré-processamento de dados (Feature Scaling)**"
   ]
  },
  {
   "cell_type": "code",
   "execution_count": 11,
   "metadata": {},
   "outputs": [],
   "source": [
    "scaler = StandardScaler()\n",
    "\n",
    "#fit aplicado para apenas o conjunto de treino\n",
    "scaler.fit(train_images)\n",
    "\n",
    "#aplicacao da transformacao para ambos os conjuntos de treino e de test\n",
    "train_images_r = scaler.transform(train_images)\n",
    "test_images_r = scaler.transform(test_images)\n"
   ]
  },
  {
   "cell_type": "markdown",
   "metadata": {},
   "source": [
    "**Definição do número de componentes:**"
   ]
  },
  {
   "cell_type": "code",
   "execution_count": 12,
   "metadata": {},
   "outputs": [],
   "source": [
    "pca = PCA(n_components=3)"
   ]
  },
  {
   "cell_type": "markdown",
   "metadata": {},
   "source": [
    "**Construção dos novos datasets de treino e de teste com dimensões reduzidas usando o PCA:**"
   ]
  },
  {
   "cell_type": "code",
   "execution_count": 13,
   "metadata": {},
   "outputs": [
    {
     "data": {
      "text/plain": [
       "PCA(copy=True, iterated_power='auto', n_components=3, random_state=None,\n",
       "    svd_solver='auto', tol=0.0, whiten=False)"
      ]
     },
     "execution_count": 13,
     "metadata": {},
     "output_type": "execute_result"
    }
   ],
   "source": [
    "pca.fit(train_images_r)"
   ]
  },
  {
   "cell_type": "code",
   "execution_count": 14,
   "metadata": {},
   "outputs": [],
   "source": [
    "train_images_r = pca.transform(train_images_r)\n",
    "test_images_r = pca.transform(test_images_r)"
   ]
  },
  {
   "cell_type": "markdown",
   "metadata": {},
   "source": [
    "**Preprocessamento: normalização e alteração do tipo dos dados de numpy array para pandas dataframe:**"
   ]
  },
  {
   "cell_type": "code",
   "execution_count": 15,
   "metadata": {},
   "outputs": [],
   "source": [
    "#esse conjunto rr sera utilizado pela rede neural\n",
    "train_images_rr = normalize(train_images_r)\n",
    "test_images_rr = normalize(test_images_r)\n",
    "train_images_rr = pd.DataFrame(data=train_images_rr)\n",
    "test_images_rr = pd.DataFrame(data=test_images_rr)\n",
    "\n",
    "#esse conjunto r sera utilizado posteriormente para a clusterizacao \n",
    "train_images_r = pd.DataFrame(data=train_images_r)\n",
    "test_images_r= pd.DataFrame(data=test_images_r)"
   ]
  },
  {
   "cell_type": "markdown",
   "metadata": {},
   "source": [
    "**Modelo Baseline que receberá os dados com dimensões reduzidas pelo PCA:**"
   ]
  },
  {
   "cell_type": "code",
   "execution_count": 16,
   "metadata": {},
   "outputs": [
    {
     "name": "stdout",
     "output_type": "stream",
     "text": [
      "Model: \"sequential_1\"\n",
      "_________________________________________________________________\n",
      "Layer (type)                 Output Shape              Param #   \n",
      "=================================================================\n",
      "dense_3 (Dense)              (None, 64)                256       \n",
      "_________________________________________________________________\n",
      "dense_4 (Dense)              (None, 128)               8320      \n",
      "_________________________________________________________________\n",
      "dense_5 (Dense)              (None, 32)                4128      \n",
      "=================================================================\n",
      "Total params: 12,704\n",
      "Trainable params: 12,704\n",
      "Non-trainable params: 0\n",
      "_________________________________________________________________\n"
     ]
    }
   ],
   "source": [
    "model_r = keras.Sequential([\n",
    "    keras.layers.Dense(64,activation=tf.nn.relu,input_dim=(3)),\n",
    "    keras.layers.Dense(128, activation=tf.nn.relu),\n",
    "    keras.layers.Dense(32, activation=tf.nn.softmax)\n",
    "])\n",
    "\n",
    "model_r.summary()"
   ]
  },
  {
   "cell_type": "markdown",
   "metadata": {},
   "source": [
    "**Compilação do modelo:**"
   ]
  },
  {
   "cell_type": "code",
   "execution_count": 17,
   "metadata": {},
   "outputs": [],
   "source": [
    "model_r.compile(optimizer='adam', loss='sparse_categorical_crossentropy', metrics=['accuracy'])"
   ]
  },
  {
   "cell_type": "markdown",
   "metadata": {},
   "source": [
    "**Treino do modelo:**"
   ]
  },
  {
   "cell_type": "code",
   "execution_count": 18,
   "metadata": {},
   "outputs": [
    {
     "name": "stdout",
     "output_type": "stream",
     "text": [
      "WARNING:tensorflow:Falling back from v2 loop because of error: Failed to find data adapter that can handle input: <class 'pandas.core.frame.DataFrame'>, <class 'NoneType'>\n",
      "Train on 48000 samples, validate on 12000 samples\n",
      "Epoch 1/10\n",
      "48000/48000 [==============================] - 3s 62us/sample - loss: 1.1477 - accuracy: 0.5613 - val_loss: 1.0421 - val_accuracy: 0.5837\n",
      "Epoch 2/10\n",
      "48000/48000 [==============================] - 3s 66us/sample - loss: 1.0214 - accuracy: 0.5918 - val_loss: 1.0264 - val_accuracy: 0.5909\n",
      "Epoch 3/10\n",
      "48000/48000 [==============================] - 4s 79us/sample - loss: 1.0113 - accuracy: 0.5978 - val_loss: 1.0206 - val_accuracy: 0.5965\n",
      "Epoch 4/10\n",
      "48000/48000 [==============================] - 4s 76us/sample - loss: 1.0056 - accuracy: 0.6007 - val_loss: 1.0173 - val_accuracy: 0.5936\n",
      "Epoch 5/10\n",
      "48000/48000 [==============================] - 3s 65us/sample - loss: 1.0023 - accuracy: 0.6018 - val_loss: 1.0180 - val_accuracy: 0.5959\n",
      "Epoch 6/10\n",
      "48000/48000 [==============================] - 3s 64us/sample - loss: 0.9995 - accuracy: 0.6031 - val_loss: 1.0113 - val_accuracy: 0.5948\n",
      "Epoch 7/10\n",
      "48000/48000 [==============================] - 3s 60us/sample - loss: 0.9966 - accuracy: 0.6047 - val_loss: 1.0063 - val_accuracy: 0.5993\n",
      "Epoch 8/10\n",
      "48000/48000 [==============================] - 3s 66us/sample - loss: 0.9953 - accuracy: 0.6058 - val_loss: 1.0046 - val_accuracy: 0.6010\n",
      "Epoch 9/10\n",
      "48000/48000 [==============================] - 3s 60us/sample - loss: 0.9934 - accuracy: 0.6082 - val_loss: 1.0071 - val_accuracy: 0.5970\n",
      "Epoch 10/10\n",
      "48000/48000 [==============================] - 2s 49us/sample - loss: 0.9923 - accuracy: 0.6095 - val_loss: 1.0068 - val_accuracy: 0.5983\n"
     ]
    }
   ],
   "source": [
    "start_time = time.time()\n",
    "history_r = model_r.fit(train_images_rr, train_labels, epochs=10, validation_split=0.2, shuffle=True)\n",
    "end_time = time.time()"
   ]
  },
  {
   "cell_type": "code",
   "execution_count": 19,
   "metadata": {},
   "outputs": [
    {
     "data": {
      "text/plain": [
       "3.14432430267334"
      ]
     },
     "execution_count": 19,
     "metadata": {},
     "output_type": "execute_result"
    }
   ],
   "source": [
    "(end_time-start_time)/10"
   ]
  },
  {
   "cell_type": "code",
   "execution_count": 20,
   "metadata": {},
   "outputs": [
    {
     "data": {
      "image/png": "[encoded data removed]",
      "text/plain": [
       "<Figure size 432x288 with 1 Axes>"
      ]
     },
     "metadata": {
      "needs_background": "light"
     },
     "output_type": "display_data"
    }
   ],
   "source": [
    "# Grafico para analise de custo do treino e da validacao\n",
    "plt.plot(history_r.history['loss'])\n",
    "plt.plot(history_r.history['val_loss'])\n",
    "plt.title('Model loss')\n",
    "plt.ylabel('Loss')\n",
    "plt.xlabel('Epoch')\n",
    "plt.legend(['Train', 'Validation'], loc='upper left')\n",
    "plt.show()"
   ]
  },
  {
   "cell_type": "markdown",
   "metadata": {},
   "source": [
    "**Verificação dos resultados do modelo:**"
   ]
  },
  {
   "cell_type": "code",
   "execution_count": 21,
   "metadata": {},
   "outputs": [
    {
     "name": "stdout",
     "output_type": "stream",
     "text": [
      "WARNING:tensorflow:Falling back from v2 loop because of error: Failed to find data adapter that can handle input: <class 'pandas.core.frame.DataFrame'>, <class 'NoneType'>\n",
      "10000/10000 [==============================] - 0s 28us/sample - loss: 0.9953 - accuracy: 0.6064\n",
      "Model - 3 layers - test loss: 99.5256084060669\n",
      "Model - 3 layers - test accuracy: 60.64000129699707\n"
     ]
    }
   ],
   "source": [
    "test_loss, test_acc = model_r.evaluate(test_images_rr, test_labels)\n",
    "print(\"Model - 3 layers - test loss:\", test_loss * 100)\n",
    "print(\"Model - 3 layers - test accuracy:\", test_acc * 100)"
   ]
  },
  {
   "cell_type": "markdown",
   "metadata": {},
   "source": [
    "------------------------------------------------------\n",
    "\n",
    "## Redução de Dimensionalidade Usando Autoencoders"
   ]
  },
  {
   "cell_type": "markdown",
   "metadata": {},
   "source": [
    "**Instanciação da rede do autoencoder:**"
   ]
  },
  {
   "cell_type": "code",
   "execution_count": 67,
   "metadata": {},
   "outputs": [],
   "source": [
    "#dimensao do output do processo de encoding, ou seja, dimensao apos compressao\n",
    "encoding_dim = 2\n",
    "#declaracao da imagen de input\n",
    "input_img = Input(shape=(784,))\n",
    "#representacao do input apos encoding\n",
    "encoded = Dense(encoding_dim, activation='relu')(input_img)\n",
    "#representacao da reconstrucao do input\n",
    "decoded = Dense(784, activation='sigmoid')(encoded)"
   ]
  },
  {
   "cell_type": "markdown",
   "metadata": {},
   "source": [
    "• Modelo do autoencoding"
   ]
  },
  {
   "cell_type": "code",
   "execution_count": 68,
   "metadata": {},
   "outputs": [],
   "source": [
    "# modelo do input para sua a sua reconstrucao apos decoding\n",
    "autoencoder = Model(input_img, decoded)"
   ]
  },
  {
   "cell_type": "markdown",
   "metadata": {},
   "source": [
    "• Modelo do encoding"
   ]
  },
  {
   "cell_type": "code",
   "execution_count": 69,
   "metadata": {},
   "outputs": [],
   "source": [
    "#modelo que mapeia o input relativo a sua reconstrucao apos encoding\n",
    "encoder = Model(input_img, encoded)"
   ]
  },
  {
   "cell_type": "code",
   "execution_count": 70,
   "metadata": {},
   "outputs": [],
   "source": [
    "#declaracao da o input comprimido\n",
    "encoded_input = Input(shape=(encoding_dim,))\n",
    "# recupera a ultima camada do modelo do autoencoder\n",
    "decoder_layer = autoencoder.layers[-1]"
   ]
  },
  {
   "cell_type": "markdown",
   "metadata": {},
   "source": [
    "• Modelo do decoding"
   ]
  },
  {
   "cell_type": "code",
   "execution_count": 71,
   "metadata": {},
   "outputs": [],
   "source": [
    "decoder = Model(encoded_input, decoder_layer(encoded_input))"
   ]
  },
  {
   "cell_type": "markdown",
   "metadata": {},
   "source": [
    "**Compilação do Modelo do Autoencoder:**"
   ]
  },
  {
   "cell_type": "code",
   "execution_count": 72,
   "metadata": {},
   "outputs": [],
   "source": [
    "autoencoder.compile(optimizer='adam', loss='binary_crossentropy')"
   ]
  },
  {
   "cell_type": "markdown",
   "metadata": {},
   "source": [
    "**Treino do Autoencoder:**"
   ]
  },
  {
   "cell_type": "code",
   "execution_count": 73,
   "metadata": {},
   "outputs": [
    {
     "name": "stdout",
     "output_type": "stream",
     "text": [
      "Train on 48000 samples, validate on 12000 samples\n",
      "Epoch 1/10\n",
      "48000/48000 [==============================] - 7s 152us/step - loss: 0.4412 - val_loss: 0.4121\n",
      "Epoch 2/10\n",
      "48000/48000 [==============================] - 8s 157us/step - loss: 0.4048 - val_loss: 0.3990\n",
      "Epoch 3/10\n",
      "48000/48000 [==============================] - 6s 134us/step - loss: 0.3944 - val_loss: 0.3910\n",
      "Epoch 4/10\n",
      "48000/48000 [==============================] - 6s 124us/step - loss: 0.3872 - val_loss: 0.3847\n",
      "Epoch 5/10\n",
      "48000/48000 [==============================] - 6s 127us/step - loss: 0.3817 - val_loss: 0.3804\n",
      "Epoch 6/10\n",
      "48000/48000 [==============================] - 7s 150us/step - loss: 0.3786 - val_loss: 0.3784\n",
      "Epoch 7/10\n",
      "48000/48000 [==============================] - 7s 148us/step - loss: 0.3773 - val_loss: 0.3776\n",
      "Epoch 8/10\n",
      "48000/48000 [==============================] - 8s 175us/step - loss: 0.3767 - val_loss: 0.3771\n",
      "Epoch 9/10\n",
      "48000/48000 [==============================] - 7s 147us/step - loss: 0.3763 - val_loss: 0.3768\n",
      "Epoch 10/10\n",
      "48000/48000 [==============================] - 8s 158us/step - loss: 0.3761 - val_loss: 0.3764\n"
     ]
    }
   ],
   "source": [
    "history_auto = autoencoder.fit(train_images, train_images,epochs=10,shuffle=True, validation_split=0.2)"
   ]
  },
  {
   "cell_type": "code",
   "execution_count": 74,
   "metadata": {},
   "outputs": [
    {
     "data": {
      "image/png": "[encoded data removed]",
      "text/plain": [
       "<Figure size 432x288 with 1 Axes>"
      ]
     },
     "metadata": {
      "needs_background": "light"
     },
     "output_type": "display_data"
    }
   ],
   "source": [
    "# Grafico para analise de custo do treino e da validacao\n",
    "plt.plot(history_auto.history['loss'])\n",
    "plt.plot(history_auto.history['val_loss'])\n",
    "plt.title('Model loss')\n",
    "plt.ylabel('Loss')\n",
    "plt.xlabel('Epoch')\n",
    "plt.legend(['Train', 'Validation'], loc='upper left')\n",
    "plt.show()"
   ]
  },
  {
   "cell_type": "markdown",
   "metadata": {},
   "source": [
    "**Utilização do encoding para a compressão das imagens do conjunto de treino e de test, e normalização para utilização posterior na rede neural.**"
   ]
  },
  {
   "cell_type": "code",
   "execution_count": 91,
   "metadata": {},
   "outputs": [],
   "source": [
    "encoded_train_images = encoder.predict(train_images)\n",
    "encoded_test_images = encoder.predict(test_images)\n",
    "encoded_train_images = normalize(encoded_train_images)\n",
    "encoded_test_images = normalize(encoded_test_images)"
   ]
  },
  {
   "cell_type": "code",
   "execution_count": 92,
   "metadata": {},
   "outputs": [],
   "source": [
    "#transformacao de numpy array para pandas data frame\n",
    "train_images_a = pd.DataFrame(data=encoded_train_images)\n",
    "test_images_a =pd.DataFrame(data=encoded_test_images)"
   ]
  },
  {
   "cell_type": "markdown",
   "metadata": {},
   "source": [
    "**Modelo Baseline que receberá os dados com dimensões reduzidas pelo PCA:**"
   ]
  },
  {
   "cell_type": "code",
   "execution_count": 93,
   "metadata": {},
   "outputs": [
    {
     "name": "stdout",
     "output_type": "stream",
     "text": [
      "Model: \"sequential_7\"\n",
      "_________________________________________________________________\n",
      "Layer (type)                 Output Shape              Param #   \n",
      "=================================================================\n",
      "dense_21 (Dense)             (None, 64)                192       \n",
      "_________________________________________________________________\n",
      "dense_22 (Dense)             (None, 128)               8320      \n",
      "_________________________________________________________________\n",
      "dense_23 (Dense)             (None, 32)                4128      \n",
      "=================================================================\n",
      "Total params: 12,640\n",
      "Trainable params: 12,640\n",
      "Non-trainable params: 0\n",
      "_________________________________________________________________\n"
     ]
    }
   ],
   "source": [
    "model_a = keras.Sequential([\n",
    "    keras.layers.Dense(64,activation=tf.nn.relu,input_dim=(2)),\n",
    "    keras.layers.Dense(128, activation=tf.nn.relu),\n",
    "    keras.layers.Dense(32, activation=tf.nn.softmax)\n",
    "])\n",
    "\n",
    "model_a.summary()"
   ]
  },
  {
   "cell_type": "markdown",
   "metadata": {},
   "source": [
    "**Compilação do modelo:**"
   ]
  },
  {
   "cell_type": "code",
   "execution_count": 94,
   "metadata": {},
   "outputs": [],
   "source": [
    "model_a.compile(optimizer='adam', loss='sparse_categorical_crossentropy', metrics=['accuracy'])"
   ]
  },
  {
   "cell_type": "markdown",
   "metadata": {},
   "source": [
    "**Treino do modelo:**"
   ]
  },
  {
   "cell_type": "code",
   "execution_count": 95,
   "metadata": {},
   "outputs": [
    {
     "name": "stdout",
     "output_type": "stream",
     "text": [
      "WARNING:tensorflow:Falling back from v2 loop because of error: Failed to find data adapter that can handle input: <class 'pandas.core.frame.DataFrame'>, <class 'NoneType'>\n",
      "Train on 48000 samples, validate on 12000 samples\n",
      "Epoch 1/10\n",
      "48000/48000 [==============================] - 3s 67us/sample - loss: 1.7633 - accuracy: 0.3179 - val_loss: 1.6398 - val_accuracy: 0.3732\n",
      "Epoch 2/10\n",
      "48000/48000 [==============================] - 3s 54us/sample - loss: 1.6343 - accuracy: 0.3676 - val_loss: 1.6253 - val_accuracy: 0.3713\n",
      "Epoch 3/10\n",
      "48000/48000 [==============================] - 3s 59us/sample - loss: 1.6201 - accuracy: 0.3784 - val_loss: 1.6113 - val_accuracy: 0.3900\n",
      "Epoch 4/10\n",
      "48000/48000 [==============================] - 3s 68us/sample - loss: 1.6104 - accuracy: 0.3822 - val_loss: 1.6037 - val_accuracy: 0.3878\n",
      "Epoch 5/10\n",
      "48000/48000 [==============================] - 3s 58us/sample - loss: 1.6048 - accuracy: 0.3844 - val_loss: 1.6027 - val_accuracy: 0.3828\n",
      "Epoch 6/10\n",
      "48000/48000 [==============================] - 3s 65us/sample - loss: 1.6001 - accuracy: 0.3855 - val_loss: 1.5921 - val_accuracy: 0.3901\n",
      "Epoch 7/10\n",
      "48000/48000 [==============================] - 3s 60us/sample - loss: 1.5965 - accuracy: 0.3877 - val_loss: 1.5926 - val_accuracy: 0.3876\n",
      "Epoch 8/10\n",
      "48000/48000 [==============================] - 3s 62us/sample - loss: 1.5938 - accuracy: 0.3880 - val_loss: 1.5886 - val_accuracy: 0.3859\n",
      "Epoch 9/10\n",
      "48000/48000 [==============================] - 3s 63us/sample - loss: 1.5928 - accuracy: 0.3890 - val_loss: 1.5877 - val_accuracy: 0.3924\n",
      "Epoch 10/10\n",
      "48000/48000 [==============================] - 3s 55us/sample - loss: 1.5911 - accuracy: 0.3898 - val_loss: 1.5893 - val_accuracy: 0.3913\n"
     ]
    }
   ],
   "source": [
    "start_time = time.time()\n",
    "history_a = model_a.fit(train_images_a, train_labels, epochs=10, validation_split=0.2, shuffle=True)\n",
    "end_time = time.time()"
   ]
  },
  {
   "cell_type": "code",
   "execution_count": 96,
   "metadata": {},
   "outputs": [
    {
     "data": {
      "text/plain": [
       "2.97543261051178"
      ]
     },
     "execution_count": 96,
     "metadata": {},
     "output_type": "execute_result"
    }
   ],
   "source": [
    "((end_time-start_time)/10)"
   ]
  },
  {
   "cell_type": "code",
   "execution_count": 97,
   "metadata": {},
   "outputs": [
    {
     "data": {
      "image/png": "[encoded data removed]",
      "text/plain": [
       "<Figure size 432x288 with 1 Axes>"
      ]
     },
     "metadata": {
      "needs_background": "light"
     },
     "output_type": "display_data"
    }
   ],
   "source": [
    "# Grafico para analise de custo do treino e da validacao\n",
    "plt.plot(history_a.history['loss'])\n",
    "plt.plot(history_a.history['val_loss'])\n",
    "plt.title('Model loss')\n",
    "plt.ylabel('Loss')\n",
    "plt.xlabel('Epoch')\n",
    "plt.legend(['Train', 'Validation'], loc='upper left')\n",
    "plt.show()"
   ]
  },
  {
   "cell_type": "code",
   "execution_count": 98,
   "metadata": {},
   "outputs": [
    {
     "name": "stdout",
     "output_type": "stream",
     "text": [
      "WARNING:tensorflow:Falling back from v2 loop because of error: Failed to find data adapter that can handle input: <class 'pandas.core.frame.DataFrame'>, <class 'NoneType'>\n",
      "10000/10000 [==============================] - 0s 30us/sample - loss: 1.5783 - accuracy: 0.3921\n",
      "Model - 3 layers - test loss: 157.8347763824463\n",
      "Model - 3 layers - test accuracy: 39.21000063419342\n"
     ]
    }
   ],
   "source": [
    "test_loss, test_acc = model_a.evaluate(test_images_a, test_labels)\n",
    "print(\"Model - 3 layers - test loss:\", test_loss * 100)\n",
    "print(\"Model - 3 layers - test accuracy:\", test_acc * 100)"
   ]
  },
  {
   "cell_type": "markdown",
   "metadata": {},
   "source": [
    "------------------------------------------------------\n",
    "\n",
    "## Clustering com K-means"
   ]
  },
  {
   "cell_type": "markdown",
   "metadata": {},
   "source": [
    "**Optamos pela utilização das imagens reduzidas por meio do PCA, já que obtiveram por meio deste modelo os melhores resultados de predição na rede neural.**"
   ]
  },
  {
   "cell_type": "code",
   "execution_count": 102,
   "metadata": {},
   "outputs": [],
   "source": [
    "train_images_k = train_images_r\n",
    "test_images_k = test_images_r"
   ]
  },
  {
   "cell_type": "markdown",
   "metadata": {},
   "source": [
    "**Construção do modelo e execução do k-means com 10 clusters.**"
   ]
  },
  {
   "cell_type": "code",
   "execution_count": 107,
   "metadata": {},
   "outputs": [],
   "source": [
    "#instanciacao do modelo com 10 clusters\n",
    "kmean_model = KMeans(n_clusters=10, random_state=10)\n",
    "#execucao do kmeans\n",
    "kmean_model.fit(train_images_k)\n",
    "#retorno dos labels dos clusteres gerados por meio do kmeans\n",
    "labels = kmean_model.labels_"
   ]
  },
  {
   "cell_type": "code",
   "execution_count": 108,
   "metadata": {},
   "outputs": [],
   "source": [
    "#retorno das centroids geradas pelo kmeans\n",
    "cluster_centroids = kmean_model.cluster_centers_"
   ]
  },
  {
   "cell_type": "markdown",
   "metadata": {},
   "source": [
    "**Coeficiente de Silhouette**"
   ]
  },
  {
   "cell_type": "code",
   "execution_count": 105,
   "metadata": {},
   "outputs": [
    {
     "data": {
      "text/plain": [
       "0.3633611126896131"
      ]
     },
     "execution_count": 105,
     "metadata": {},
     "output_type": "execute_result"
    }
   ],
   "source": [
    "silhouette_score(X = train_images_k, labels = labels, random_state = 10)"
   ]
  },
  {
   "cell_type": "markdown",
   "metadata": {},
   "source": [
    "**V-measure Score**"
   ]
  },
  {
   "cell_type": "code",
   "execution_count": 109,
   "metadata": {},
   "outputs": [
    {
     "data": {
      "text/plain": [
       "0.4455785750478227"
      ]
     },
     "execution_count": 109,
     "metadata": {},
     "output_type": "execute_result"
    }
   ],
   "source": [
    "metrics.v_measure_score(train_labels.values.ravel(), labels, beta=1.0)"
   ]
  },
  {
   "cell_type": "code",
   "execution_count": null,
   "metadata": {},
   "outputs": [],
   "source": []
  },
  {
   "cell_type": "code",
   "execution_count": null,
   "metadata": {},
   "outputs": [],
   "source": []
  },
  {
   "cell_type": "code",
   "execution_count": null,
   "metadata": {},
   "outputs": [],
   "source": []
  },
  {
   "cell_type": "code",
   "execution_count": null,
   "metadata": {},
   "outputs": [],
   "source": []
  },
  {
   "cell_type": "code",
   "execution_count": null,
   "metadata": {},
   "outputs": [],
   "source": []
  },
  {
   "cell_type": "markdown",
   "metadata": {},
   "source": [
    "---------------------------------\n",
    "## Clustering com o DBScan\n"
   ]
  },
  {
   "cell_type": "code",
   "execution_count": 112,
   "metadata": {},
   "outputs": [
    {
     "name": "stdout",
     "output_type": "stream",
     "text": [
      "               0          1          2\n",
      "0      10.664973  14.993363  -0.689468\n",
      "1     -11.989748  11.812770  -5.801049\n",
      "2      20.517671   1.579784   6.770122\n",
      "3       9.634535  -6.790917  -0.907860\n",
      "4      11.493442 -11.655488  -7.208334\n",
      "...          ...        ...        ...\n",
      "59995   0.871480  15.580971 -11.665720\n",
      "59996 -10.172701 -14.933856  -0.769995\n",
      "59997   7.148767  -0.543565  -0.874060\n",
      "59998   4.434153  20.832704  -0.576302\n",
      "59999  -9.106810  14.831154  -3.674678\n",
      "\n",
      "[60000 rows x 3 columns]\n",
      "[-1 -1 -1 ... -1 -1 -1]\n",
      "60000\n",
      "Estimated number of clusters: 86\n",
      "Estimated number of noise points: 51714\n"
     ]
    },
    {
     "data": {
      "image/png": "[encoded data removed]",
      "text/plain": [
       "<Figure size 432x288 with 1 Axes>"
      ]
     },
     "metadata": {
      "needs_background": "light"
     },
     "output_type": "display_data"
    }
   ],
   "source": [
    "\n",
    "train_images_dbscan = train_images_r\n",
    "test_images_dbscan = test_images_r\n",
    "\n",
    "print(train_images_dbscan)\n",
    "\n",
    "\n",
    "neigh = NearestNeighbors(n_neighbors=10)\n",
    "nbrs = neigh.fit(train_images_dbscan)\n",
    "distances, indices = nbrs.kneighbors(train_images_dbscan)\n",
    "\n",
    "distances = np.sort(distances, axis=0)\n",
    "distances = distances[:,1]\n",
    "plt.plot(distances)\n",
    "\n",
    "\n",
    "db = DBSCAN(eps=0.38, min_samples=10).fit(train_images_dbscan)\n",
    "core_samples_mask = np.zeros_like(db.labels_, dtype=bool)\n",
    "core_samples_mask[db.core_sample_indices_] = True\n",
    "labels = db.labels_\n",
    "# Number of clusters in labels, ignoring noise if present.\n",
    "n_clusters_ = len(set(labels)) - (1 if -1 in labels else 0)\n",
    "n_noise_ = list(labels).count(-1)\n",
    "\n",
    "print(labels)\n",
    "print(len(labels))\n",
    "print('Estimated number of clusters: %d' % n_clusters_)\n",
    "print('Estimated number of noise points: %d' % n_noise_)"
   ]
  },
  {
   "cell_type": "code",
   "execution_count": null,
   "metadata": {},
   "outputs": [],
   "source": []
  },
  {
   "cell_type": "code",
   "execution_count": null,
   "metadata": {},
   "outputs": [],
   "source": []
  },
  {
   "cell_type": "code",
   "execution_count": null,
   "metadata": {},
   "outputs": [],
   "source": []
  },
  {
   "cell_type": "code",
   "execution_count": null,
   "metadata": {},
   "outputs": [],
   "source": []
  },
  {
   "cell_type": "code",
   "execution_count": null,
   "metadata": {},
   "outputs": [],
   "source": []
  },
  {
   "cell_type": "code",
   "execution_count": null,
   "metadata": {},
   "outputs": [],
   "source": []
  },
  {
   "cell_type": "code",
   "execution_count": null,
   "metadata": {},
   "outputs": [],
   "source": []
  },
  {
   "cell_type": "code",
   "execution_count": null,
   "metadata": {},
   "outputs": [],
   "source": []
  },
  {
   "cell_type": "code",
   "execution_count": null,
   "metadata": {},
   "outputs": [],
   "source": []
  },
  {
   "cell_type": "code",
   "execution_count": null,
   "metadata": {},
   "outputs": [],
   "source": []
  },
  {
   "cell_type": "code",
   "execution_count": null,
   "metadata": {},
   "outputs": [],
   "source": []
  },
  {
   "cell_type": "code",
   "execution_count": null,
   "metadata": {},
   "outputs": [],
   "source": []
  },
  {
   "cell_type": "code",
   "execution_count": null,
   "metadata": {},
   "outputs": [],
   "source": []
  },
  {
   "cell_type": "code",
   "execution_count": null,
   "metadata": {},
   "outputs": [],
   "source": []
  }
 ],
 "metadata": {
  "kernelspec": {
   "display_name": "Python 3",
   "language": "python",
   "name": "python3"
  },
  "language_info": {
   "codemirror_mode": {
    "name": "ipython",
    "version": 3
   },
   "file_extension": ".py",
   "mimetype": "text/x-python",
   "name": "python",
   "nbconvert_exporter": "python",
   "pygments_lexer": "ipython3",
   "version": "3.7.4"
  }
 },
 "nbformat": 4,
 "nbformat_minor": 4
}
