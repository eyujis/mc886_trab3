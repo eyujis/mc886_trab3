{
 "cells": [
  {
   "cell_type": "markdown",
   "metadata": {},
   "source": [
    "**Importando Bibliotecas**"
   ]
  },
  {
   "cell_type": "code",
   "execution_count": 1,
   "metadata": {},
   "outputs": [],
   "source": [
    "import numpy as np \n",
    "import pandas as pd\n",
    "import matplotlib.pyplot as plt\n",
    "import time"
   ]
  },
  {
   "cell_type": "markdown",
   "metadata": {},
   "source": [
    "**Pre-processamento dos dados**"
   ]
  },
  {
   "cell_type": "code",
   "execution_count": 2,
   "metadata": {},
   "outputs": [],
   "source": [
    "#carregando dados de treino e de test\n",
    "train_images = pd.read_csv('../fashion-mnist_train.csv')\n",
    "test_images = pd.read_csv('../fashion-mnist_test.csv')"
   ]
  },
  {
   "cell_type": "markdown",
   "metadata": {},
   "source": [
    "**Separando as labels do conjuntos:**"
   ]
  },
  {
   "cell_type": "code",
   "execution_count": 3,
   "metadata": {},
   "outputs": [],
   "source": [
    "#separando as labels das imagens\n",
    "train_labels=train_images.loc[:, ['label']]\n",
    "train_images=train_images.drop(['label'], axis=1)\n",
    "test_labels=test_images.loc[:, ['label']]\n",
    "test_images=test_images.drop(['label'], axis=1)"
   ]
  },
  {
   "cell_type": "markdown",
   "metadata": {},
   "source": [
    "**Normalizando os data-sets:**"
   ]
  },
  {
   "cell_type": "code",
   "execution_count": 4,
   "metadata": {},
   "outputs": [],
   "source": [
    "#normalizacao\n",
    "train_images = train_images / 255.0\n",
    "test_images = test_images / 255.0\n"
   ]
  },
  {
   "cell_type": "markdown",
   "metadata": {},
   "source": [
    "----------------------\n",
    "## Construção do modelo base\n",
    "**Esta rede será utilizada posteriomente para comparações entre os modelos de dimensionalidade reduzida utilizando PCA e autoencoder.**"
   ]
  },
  {
   "cell_type": "markdown",
   "metadata": {},
   "source": [
    "**Importação de Bibliotecas**"
   ]
  },
  {
   "cell_type": "code",
   "execution_count": 5,
   "metadata": {},
   "outputs": [
    {
     "name": "stderr",
     "output_type": "stream",
     "text": [
      "Using TensorFlow backend.\n"
     ]
    }
   ],
   "source": [
    "import tensorflow as tf \n",
    "from tensorflow import keras\n",
    "from keras.models import Sequential\n",
    "from keras.layers import Input, Dense\n",
    "from keras.optimizers import Adam\n",
    "from keras.models import Model\n",
    "from keras.utils import plot_model"
   ]
  },
  {
   "cell_type": "markdown",
   "metadata": {},
   "source": [
    "**Definição da estrutura do modelo por meio do Keras Sequential:**"
   ]
  },
  {
   "cell_type": "code",
   "execution_count": 6,
   "metadata": {},
   "outputs": [
    {
     "name": "stdout",
     "output_type": "stream",
     "text": [
      "Model: \"sequential\"\n",
      "_________________________________________________________________\n",
      "Layer (type)                 Output Shape              Param #   \n",
      "=================================================================\n",
      "dense (Dense)                (None, 64)                50240     \n",
      "_________________________________________________________________\n",
      "dense_1 (Dense)              (None, 128)               8320      \n",
      "_________________________________________________________________\n",
      "dense_2 (Dense)              (None, 32)                4128      \n",
      "=================================================================\n",
      "Total params: 62,688\n",
      "Trainable params: 62,688\n",
      "Non-trainable params: 0\n",
      "_________________________________________________________________\n"
     ]
    }
   ],
   "source": [
    "#construcao da estrutura da rede neural\n",
    "model = keras.Sequential([\n",
    "    keras.layers.Dense(64,activation=tf.nn.relu,input_dim=(784)),\n",
    "    keras.layers.Dense(128, activation=tf.nn.relu),\n",
    "    keras.layers.Dense(32, activation=tf.nn.softmax)\n",
    "])\n",
    "\n",
    "model.summary()"
   ]
  },
  {
   "cell_type": "markdown",
   "metadata": {},
   "source": [
    "**Compilação do modelo:**"
   ]
  },
  {
   "cell_type": "code",
   "execution_count": 7,
   "metadata": {},
   "outputs": [],
   "source": [
    "#compilacao do modelo\n",
    "model.compile(optimizer='adam',\n",
    "              loss='sparse_categorical_crossentropy',\n",
    "              metrics=['accuracy'])"
   ]
  },
  {
   "cell_type": "markdown",
   "metadata": {},
   "source": [
    "**Treino do modelo:**"
   ]
  },
  {
   "cell_type": "code",
   "execution_count": 8,
   "metadata": {},
   "outputs": [
    {
     "name": "stdout",
     "output_type": "stream",
     "text": [
      "WARNING:tensorflow:Falling back from v2 loop because of error: Failed to find data adapter that can handle input: <class 'pandas.core.frame.DataFrame'>, <class 'NoneType'>\n",
      "Train on 48000 samples, validate on 12000 samples\n",
      "Epoch 1/10\n",
      "48000/48000 [==============================] - 5s 96us/sample - loss: 0.5489 - accuracy: 0.8060 - val_loss: 0.4513 - val_accuracy: 0.8365\n",
      "Epoch 2/10\n",
      "48000/48000 [==============================] - 4s 91us/sample - loss: 0.3953 - accuracy: 0.8571 - val_loss: 0.4036 - val_accuracy: 0.8530\n",
      "Epoch 3/10\n",
      "48000/48000 [==============================] - 4s 91us/sample - loss: 0.3557 - accuracy: 0.8711 - val_loss: 0.3748 - val_accuracy: 0.8640\n",
      "Epoch 4/10\n",
      "48000/48000 [==============================] - 4s 90us/sample - loss: 0.3321 - accuracy: 0.8770 - val_loss: 0.3603 - val_accuracy: 0.8711\n",
      "Epoch 5/10\n",
      "48000/48000 [==============================] - 4s 90us/sample - loss: 0.3128 - accuracy: 0.8841 - val_loss: 0.3412 - val_accuracy: 0.8792\n",
      "Epoch 6/10\n",
      "48000/48000 [==============================] - 4s 90us/sample - loss: 0.2949 - accuracy: 0.8910 - val_loss: 0.3455 - val_accuracy: 0.8779\n",
      "Epoch 7/10\n",
      "48000/48000 [==============================] - 4s 89us/sample - loss: 0.2845 - accuracy: 0.8927 - val_loss: 0.3394 - val_accuracy: 0.8763\n",
      "Epoch 8/10\n",
      "48000/48000 [==============================] - 4s 89us/sample - loss: 0.2742 - accuracy: 0.8969 - val_loss: 0.3392 - val_accuracy: 0.8813\n",
      "Epoch 9/10\n",
      "48000/48000 [==============================] - 4s 91us/sample - loss: 0.2625 - accuracy: 0.9000 - val_loss: 0.3653 - val_accuracy: 0.8698\n",
      "Epoch 10/10\n",
      "48000/48000 [==============================] - 4s 90us/sample - loss: 0.2527 - accuracy: 0.9050 - val_loss: 0.3268 - val_accuracy: 0.8848\n"
     ]
    }
   ],
   "source": [
    "start_time = time.time()\n",
    "#treino do modelo\n",
    "history = model.fit(train_images, train_labels, epochs=10, validation_split=0.2, shuffle=True)\n",
    "end_time = time.time()"
   ]
  },
  {
   "cell_type": "code",
   "execution_count": 9,
   "metadata": {},
   "outputs": [
    {
     "data": {
      "text/plain": [
       "4.383094215393067"
      ]
     },
     "execution_count": 9,
     "metadata": {},
     "output_type": "execute_result"
    }
   ],
   "source": [
    "#tempo de treino por época\n",
    "(end_time-start_time)/10"
   ]
  },
  {
   "cell_type": "code",
   "execution_count": 10,
   "metadata": {},
   "outputs": [
    {
     "data": {
      "image/png": "[encoded data removed]",
      "text/plain": [
       "<Figure size 432x288 with 1 Axes>"
      ]
     },
     "metadata": {
      "needs_background": "light"
     },
     "output_type": "display_data"
    }
   ],
   "source": [
    "# Grafico para analise de custo do treino e da validacao\n",
    "plt.plot(history.history['loss'])\n",
    "plt.plot(history.history['val_loss'])\n",
    "plt.title('Model loss')\n",
    "plt.ylabel('Loss')\n",
    "plt.xlabel('Epoch')\n",
    "plt.legend(['Train', 'Validation'], loc='upper left')\n",
    "plt.show()"
   ]
  },
  {
   "cell_type": "markdown",
   "metadata": {},
   "source": [
    "**Verificação dos resultados do modelo**"
   ]
  },
  {
   "cell_type": "code",
   "execution_count": 11,
   "metadata": {},
   "outputs": [
    {
     "name": "stdout",
     "output_type": "stream",
     "text": [
      "WARNING:tensorflow:Falling back from v2 loop because of error: Failed to find data adapter that can handle input: <class 'pandas.core.frame.DataFrame'>, <class 'NoneType'>\n",
      "10000/10000 [==============================] - 0s 37us/sample - loss: 0.3129 - accuracy: 0.8867\n",
      "Modelo Baseline - test loss: 31.29451647400856\n",
      "Modelo Baseline - test accuracy: 88.66999745368958\n"
     ]
    }
   ],
   "source": [
    "test_loss, test_acc = model.evaluate(test_images, test_labels)\n",
    "print(\"Modelo Baseline - test loss:\", test_loss * 100)\n",
    "print(\"Modelo Baseline - test accuracy:\", test_acc * 100)"
   ]
  },
  {
   "cell_type": "markdown",
   "metadata": {},
   "source": [
    "-----------------------------\n",
    "## Redução de Dimensionalidade Usando Principal component analysis (PCA)"
   ]
  },
  {
   "cell_type": "markdown",
   "metadata": {},
   "source": [
    "**Importação de Bibliotecas**"
   ]
  },
  {
   "cell_type": "code",
   "execution_count": 12,
   "metadata": {},
   "outputs": [],
   "source": [
    "import sklearn as sk\n",
    "from sklearn.decomposition import PCA\n",
    "from sklearn import metrics\n",
    "from sklearn.preprocessing import StandardScaler\n",
    "from sklearn.preprocessing import normalize"
   ]
  },
  {
   "cell_type": "markdown",
   "metadata": {},
   "source": [
    "**Pré-processamento de dados (Feature Scaling)**"
   ]
  },
  {
   "cell_type": "code",
   "execution_count": 13,
   "metadata": {},
   "outputs": [],
   "source": [
    "scaler = StandardScaler()\n",
    "\n",
    "#fit aplicado para apenas o conjunto de treino\n",
    "scaler.fit(train_images)\n",
    "\n",
    "#aplicacao da transformacao para ambos os conjuntos de treino e de test\n",
    "train_images_r = scaler.transform(train_images)\n",
    "test_images_r = scaler.transform(test_images)\n"
   ]
  },
  {
   "cell_type": "markdown",
   "metadata": {},
   "source": [
    "**Definição do número de componentes:**"
   ]
  },
  {
   "cell_type": "code",
   "execution_count": 14,
   "metadata": {},
   "outputs": [],
   "source": [
    "#definicao do numero de componentes\n",
    "pca = PCA(n_components=3)"
   ]
  },
  {
   "cell_type": "markdown",
   "metadata": {},
   "source": [
    "**Construção dos novos datasets de treino e de teste com dimensões reduzidas usando o PCA:**"
   ]
  },
  {
   "cell_type": "code",
   "execution_count": 15,
   "metadata": {},
   "outputs": [
    {
     "data": {
      "text/plain": [
       "PCA(copy=True, iterated_power='auto', n_components=3, random_state=None,\n",
       "    svd_solver='auto', tol=0.0, whiten=False)"
      ]
     },
     "execution_count": 15,
     "metadata": {},
     "output_type": "execute_result"
    }
   ],
   "source": [
    "pca.fit(train_images_r)"
   ]
  },
  {
   "cell_type": "code",
   "execution_count": 16,
   "metadata": {},
   "outputs": [],
   "source": [
    "#transformacao das imagens originais de teste e treino reduzindo a dimensionalidade\n",
    "train_images_r = pca.transform(train_images_r)\n",
    "test_images_r = pca.transform(test_images_r)"
   ]
  },
  {
   "cell_type": "markdown",
   "metadata": {},
   "source": [
    "**Preprocessamento: normalização e alteração do tipo dos dados de numpy array para pandas dataframe:**"
   ]
  },
  {
   "cell_type": "code",
   "execution_count": 17,
   "metadata": {},
   "outputs": [],
   "source": [
    "#esse conjunto rr sera utilizado pela rede neural\n",
    "train_images_rr = normalize(train_images_r)\n",
    "test_images_rr = normalize(test_images_r)\n",
    "train_images_rr = pd.DataFrame(data=train_images_rr)\n",
    "test_images_rr = pd.DataFrame(data=test_images_rr)\n",
    "\n",
    "#esse conjunto r sera utilizado posteriormente para a clusterizacao \n",
    "train_images_r = pd.DataFrame(data=train_images_r)\n",
    "test_images_r= pd.DataFrame(data=test_images_r)"
   ]
  },
  {
   "cell_type": "markdown",
   "metadata": {},
   "source": [
    "**Modelo Baseline que receberá os dados com dimensões reduzidas pelo PCA:**"
   ]
  },
  {
   "cell_type": "code",
   "execution_count": 18,
   "metadata": {},
   "outputs": [
    {
     "name": "stdout",
     "output_type": "stream",
     "text": [
      "Model: \"sequential_1\"\n",
      "_________________________________________________________________\n",
      "Layer (type)                 Output Shape              Param #   \n",
      "=================================================================\n",
      "dense_3 (Dense)              (None, 64)                256       \n",
      "_________________________________________________________________\n",
      "dense_4 (Dense)              (None, 128)               8320      \n",
      "_________________________________________________________________\n",
      "dense_5 (Dense)              (None, 32)                4128      \n",
      "=================================================================\n",
      "Total params: 12,704\n",
      "Trainable params: 12,704\n",
      "Non-trainable params: 0\n",
      "_________________________________________________________________\n"
     ]
    }
   ],
   "source": [
    "#construcao da estrutura da rede neural\n",
    "model_r = keras.Sequential([\n",
    "    keras.layers.Dense(64,activation=tf.nn.relu,input_dim=(3)),\n",
    "    keras.layers.Dense(128, activation=tf.nn.relu),\n",
    "    keras.layers.Dense(32, activation=tf.nn.softmax)\n",
    "])\n",
    "\n",
    "model_r.summary()"
   ]
  },
  {
   "cell_type": "markdown",
   "metadata": {},
   "source": [
    "**Compilação do modelo:**"
   ]
  },
  {
   "cell_type": "code",
   "execution_count": 19,
   "metadata": {},
   "outputs": [],
   "source": [
    "#compilacao do modelo\n",
    "model_r.compile(optimizer='adam', loss='sparse_categorical_crossentropy', metrics=['accuracy'])"
   ]
  },
  {
   "cell_type": "markdown",
   "metadata": {},
   "source": [
    "**Treino do modelo:**"
   ]
  },
  {
   "cell_type": "code",
   "execution_count": 20,
   "metadata": {},
   "outputs": [
    {
     "name": "stdout",
     "output_type": "stream",
     "text": [
      "WARNING:tensorflow:Falling back from v2 loop because of error: Failed to find data adapter that can handle input: <class 'pandas.core.frame.DataFrame'>, <class 'NoneType'>\n",
      "Train on 48000 samples, validate on 12000 samples\n",
      "Epoch 1/10\n",
      "48000/48000 [==============================] - 4s 74us/sample - loss: 1.1469 - accuracy: 0.5657 - val_loss: 1.0408 - val_accuracy: 0.5863\n",
      "Epoch 2/10\n",
      "48000/48000 [==============================] - 3s 71us/sample - loss: 1.0202 - accuracy: 0.5959 - val_loss: 1.0296 - val_accuracy: 0.5960\n",
      "Epoch 3/10\n",
      "48000/48000 [==============================] - 3s 54us/sample - loss: 1.0103 - accuracy: 0.5992 - val_loss: 1.0248 - val_accuracy: 0.5975\n",
      "Epoch 4/10\n",
      "48000/48000 [==============================] - 3s 55us/sample - loss: 1.0042 - accuracy: 0.6005 - val_loss: 1.0128 - val_accuracy: 0.6007\n",
      "Epoch 5/10\n",
      "48000/48000 [==============================] - 3s 57us/sample - loss: 1.0005 - accuracy: 0.6039 - val_loss: 1.0155 - val_accuracy: 0.5968\n",
      "Epoch 6/10\n",
      "48000/48000 [==============================] - 3s 63us/sample - loss: 0.9984 - accuracy: 0.6041 - val_loss: 1.0123 - val_accuracy: 0.6010\n",
      "Epoch 7/10\n",
      "48000/48000 [==============================] - 4s 81us/sample - loss: 0.9951 - accuracy: 0.6067 - val_loss: 1.0074 - val_accuracy: 0.6001\n",
      "Epoch 8/10\n",
      "48000/48000 [==============================] - 2s 50us/sample - loss: 0.9946 - accuracy: 0.6056 - val_loss: 1.0052 - val_accuracy: 0.6008\n",
      "Epoch 9/10\n",
      "48000/48000 [==============================] - 2s 50us/sample - loss: 0.9919 - accuracy: 0.6071 - val_loss: 1.0229 - val_accuracy: 0.5947\n",
      "Epoch 10/10\n",
      "48000/48000 [==============================] - 2s 51us/sample - loss: 0.9923 - accuracy: 0.6068 - val_loss: 1.0051 - val_accuracy: 0.6028\n"
     ]
    }
   ],
   "source": [
    "start_time = time.time()\n",
    "#treino do modelo\n",
    "history_r = model_r.fit(train_images_rr, train_labels, epochs=10, validation_split=0.2, shuffle=True)\n",
    "end_time = time.time()"
   ]
  },
  {
   "cell_type": "code",
   "execution_count": 21,
   "metadata": {},
   "outputs": [
    {
     "data": {
      "text/plain": [
       "2.939912486076355"
      ]
     },
     "execution_count": 21,
     "metadata": {},
     "output_type": "execute_result"
    }
   ],
   "source": [
    "#tempo de treino por época\n",
    "(end_time-start_time)/10"
   ]
  },
  {
   "cell_type": "code",
   "execution_count": 22,
   "metadata": {},
   "outputs": [
    {
     "data": {
      "image/png": "[encoded data removed]",
      "text/plain": [
       "<Figure size 432x288 with 1 Axes>"
      ]
     },
     "metadata": {
      "needs_background": "light"
     },
     "output_type": "display_data"
    }
   ],
   "source": [
    "# Grafico para analise de custo do treino e da validacao\n",
    "plt.plot(history_r.history['loss'])\n",
    "plt.plot(history_r.history['val_loss'])\n",
    "plt.title('Model loss')\n",
    "plt.ylabel('Loss')\n",
    "plt.xlabel('Epoch')\n",
    "plt.legend(['Train', 'Validation'], loc='upper left')\n",
    "plt.show()"
   ]
  },
  {
   "cell_type": "markdown",
   "metadata": {},
   "source": [
    "**Verificação dos resultados do modelo:**"
   ]
  },
  {
   "cell_type": "code",
   "execution_count": 23,
   "metadata": {},
   "outputs": [
    {
     "name": "stdout",
     "output_type": "stream",
     "text": [
      "WARNING:tensorflow:Falling back from v2 loop because of error: Failed to find data adapter that can handle input: <class 'pandas.core.frame.DataFrame'>, <class 'NoneType'>\n",
      "10000/10000 [==============================] - 0s 27us/sample - loss: 0.9987 - accuracy: 0.5973\n",
      "Modelo usando features do PCA - test loss: 99.87358312606811\n",
      "Modelo usando features do PCA - test accuracy: 59.72999930381775\n"
     ]
    }
   ],
   "source": [
    "test_loss, test_acc = model_r.evaluate(test_images_rr, test_labels)\n",
    "print(\"Modelo usando features do PCA - test loss:\", test_loss * 100)\n",
    "print(\"Modelo usando features do PCA - test accuracy:\", test_acc * 100)"
   ]
  },
  {
   "cell_type": "markdown",
   "metadata": {},
   "source": [
    "------------------------------------------------------\n",
    "\n",
    "## Redução de Dimensionalidade Usando Autoencoders"
   ]
  },
  {
   "cell_type": "markdown",
   "metadata": {},
   "source": [
    "**Instanciação da rede do autoencoder:**"
   ]
  },
  {
   "cell_type": "code",
   "execution_count": 24,
   "metadata": {},
   "outputs": [],
   "source": [
    "#dimensao do output do processo de encoding, ou seja, dimensao apos compressao\n",
    "encoding_dim = 2\n",
    "#declaracao da imagen de input\n",
    "input_img = Input(shape=(784,))\n",
    "#representacao do input apos encoding\n",
    "encoded = Dense(encoding_dim, activation='relu')(input_img)\n",
    "#representacao da reconstrucao do input\n",
    "decoded = Dense(784, activation='sigmoid')(encoded)"
   ]
  },
  {
   "cell_type": "markdown",
   "metadata": {},
   "source": [
    "• Modelo do autoencoding"
   ]
  },
  {
   "cell_type": "code",
   "execution_count": 25,
   "metadata": {},
   "outputs": [],
   "source": [
    "# modelo do input para sua a sua reconstrucao apos decoding\n",
    "autoencoder = Model(input_img, decoded)"
   ]
  },
  {
   "cell_type": "markdown",
   "metadata": {},
   "source": [
    "• Modelo do encoding"
   ]
  },
  {
   "cell_type": "code",
   "execution_count": 26,
   "metadata": {},
   "outputs": [],
   "source": [
    "#modelo que mapeia o input relativo a sua reconstrucao apos encoding\n",
    "encoder = Model(input_img, encoded)"
   ]
  },
  {
   "cell_type": "code",
   "execution_count": 27,
   "metadata": {},
   "outputs": [],
   "source": [
    "#declaracao da o input comprimido\n",
    "encoded_input = Input(shape=(encoding_dim,))\n",
    "# recupera a ultima camada do modelo do autoencoder\n",
    "decoder_layer = autoencoder.layers[-1]"
   ]
  },
  {
   "cell_type": "markdown",
   "metadata": {},
   "source": [
    "• Modelo do decoding"
   ]
  },
  {
   "cell_type": "code",
   "execution_count": 28,
   "metadata": {},
   "outputs": [],
   "source": [
    "decoder = Model(encoded_input, decoder_layer(encoded_input))"
   ]
  },
  {
   "cell_type": "markdown",
   "metadata": {},
   "source": [
    "**Compilação do Modelo do Autoencoder:**"
   ]
  },
  {
   "cell_type": "code",
   "execution_count": 29,
   "metadata": {},
   "outputs": [],
   "source": [
    "autoencoder.compile(optimizer='adam', loss='binary_crossentropy')"
   ]
  },
  {
   "cell_type": "markdown",
   "metadata": {},
   "source": [
    "**Treino do Autoencoder:**"
   ]
  },
  {
   "cell_type": "code",
   "execution_count": 30,
   "metadata": {},
   "outputs": [
    {
     "name": "stdout",
     "output_type": "stream",
     "text": [
      "Train on 48000 samples, validate on 12000 samples\n",
      "Epoch 1/10\n",
      "48000/48000 [==============================] - 6s 130us/step - loss: 0.4393 - val_loss: 0.4106\n",
      "Epoch 2/10\n",
      "48000/48000 [==============================] - 6s 121us/step - loss: 0.4026 - val_loss: 0.3962\n",
      "Epoch 3/10\n",
      "48000/48000 [==============================] - 5s 114us/step - loss: 0.3911 - val_loss: 0.3871\n",
      "Epoch 4/10\n",
      "48000/48000 [==============================] - 5s 113us/step - loss: 0.3833 - val_loss: 0.3814\n",
      "Epoch 5/10\n",
      "48000/48000 [==============================] - 6s 115us/step - loss: 0.3791 - val_loss: 0.3788\n",
      "Epoch 6/10\n",
      "48000/48000 [==============================] - 5s 112us/step - loss: 0.3776 - val_loss: 0.3779\n",
      "Epoch 7/10\n",
      "48000/48000 [==============================] - 6s 115us/step - loss: 0.3768 - val_loss: 0.3773\n",
      "Epoch 8/10\n",
      "48000/48000 [==============================] - 5s 112us/step - loss: 0.3764 - val_loss: 0.3768\n",
      "Epoch 9/10\n",
      "48000/48000 [==============================] - 5s 114us/step - loss: 0.3761 - val_loss: 0.3765\n",
      "Epoch 10/10\n",
      "48000/48000 [==============================] - 5s 112us/step - loss: 0.3759 - val_loss: 0.3763\n"
     ]
    }
   ],
   "source": [
    "history_auto = autoencoder.fit(train_images, train_images,epochs=10,shuffle=True, validation_split=0.2)"
   ]
  },
  {
   "cell_type": "code",
   "execution_count": 31,
   "metadata": {},
   "outputs": [
    {
     "data": {
      "image/png": "[encoded data removed]",
      "text/plain": [
       "<Figure size 432x288 with 1 Axes>"
      ]
     },
     "metadata": {
      "needs_background": "light"
     },
     "output_type": "display_data"
    }
   ],
   "source": [
    "# Grafico para analise de custo do treino e da validacao\n",
    "plt.plot(history_auto.history['loss'])\n",
    "plt.plot(history_auto.history['val_loss'])\n",
    "plt.title('Model loss')\n",
    "plt.ylabel('Loss')\n",
    "plt.xlabel('Epoch')\n",
    "plt.legend(['Train', 'Validation'], loc='upper left')\n",
    "plt.show()"
   ]
  },
  {
   "cell_type": "markdown",
   "metadata": {},
   "source": [
    "**Utilização do encoding para a compressão das imagens do conjunto de treino e de test, e normalização para utilização posterior na rede neural.**"
   ]
  },
  {
   "cell_type": "code",
   "execution_count": 32,
   "metadata": {},
   "outputs": [],
   "source": [
    "#compressao das imagens pelo encoding e normalizacao para treino na rede neural\n",
    "encoded_train_images = encoder.predict(train_images)\n",
    "encoded_test_images = encoder.predict(test_images)\n",
    "encoded_train_images = normalize(encoded_train_images)\n",
    "encoded_test_images = normalize(encoded_test_images)"
   ]
  },
  {
   "cell_type": "code",
   "execution_count": 33,
   "metadata": {},
   "outputs": [],
   "source": [
    "#transformacao de numpy array para pandas data frame\n",
    "train_images_a = pd.DataFrame(data=encoded_train_images)\n",
    "test_images_a =pd.DataFrame(data=encoded_test_images)"
   ]
  },
  {
   "cell_type": "markdown",
   "metadata": {},
   "source": [
    "**Modelo Baseline que receberá os dados com dimensões reduzidas pelo PCA:**"
   ]
  },
  {
   "cell_type": "code",
   "execution_count": 34,
   "metadata": {},
   "outputs": [
    {
     "name": "stdout",
     "output_type": "stream",
     "text": [
      "Model: \"sequential_2\"\n",
      "_________________________________________________________________\n",
      "Layer (type)                 Output Shape              Param #   \n",
      "=================================================================\n",
      "dense_6 (Dense)              (None, 64)                192       \n",
      "_________________________________________________________________\n",
      "dense_7 (Dense)              (None, 128)               8320      \n",
      "_________________________________________________________________\n",
      "dense_8 (Dense)              (None, 32)                4128      \n",
      "=================================================================\n",
      "Total params: 12,640\n",
      "Trainable params: 12,640\n",
      "Non-trainable params: 0\n",
      "_________________________________________________________________\n"
     ]
    }
   ],
   "source": [
    "#construcao da estrutura da rede neural\n",
    "model_a = keras.Sequential([\n",
    "    keras.layers.Dense(64,activation=tf.nn.relu,input_dim=(2)),\n",
    "    keras.layers.Dense(128, activation=tf.nn.relu),\n",
    "    keras.layers.Dense(32, activation=tf.nn.softmax)\n",
    "])\n",
    "\n",
    "model_a.summary()"
   ]
  },
  {
   "cell_type": "markdown",
   "metadata": {},
   "source": [
    "**Compilação do modelo:**"
   ]
  },
  {
   "cell_type": "code",
   "execution_count": 35,
   "metadata": {},
   "outputs": [],
   "source": [
    "#compilacao do modelo\n",
    "model_a.compile(optimizer='adam', loss='sparse_categorical_crossentropy', metrics=['accuracy'])"
   ]
  },
  {
   "cell_type": "markdown",
   "metadata": {},
   "source": [
    "**Treino do modelo:**"
   ]
  },
  {
   "cell_type": "code",
   "execution_count": 36,
   "metadata": {},
   "outputs": [
    {
     "name": "stdout",
     "output_type": "stream",
     "text": [
      "WARNING:tensorflow:Falling back from v2 loop because of error: Failed to find data adapter that can handle input: <class 'pandas.core.frame.DataFrame'>, <class 'NoneType'>\n",
      "Train on 48000 samples, validate on 12000 samples\n",
      "Epoch 1/10\n",
      "48000/48000 [==============================] - 3s 57us/sample - loss: 1.7570 - accuracy: 0.3105 - val_loss: 1.6388 - val_accuracy: 0.3377\n",
      "Epoch 2/10\n",
      "48000/48000 [==============================] - 3s 55us/sample - loss: 1.6226 - accuracy: 0.3569 - val_loss: 1.6117 - val_accuracy: 0.3495\n",
      "Epoch 3/10\n",
      "48000/48000 [==============================] - 2s 51us/sample - loss: 1.6082 - accuracy: 0.3647 - val_loss: 1.5999 - val_accuracy: 0.3681\n",
      "Epoch 4/10\n",
      "48000/48000 [==============================] - 3s 52us/sample - loss: 1.6018 - accuracy: 0.3667 - val_loss: 1.5932 - val_accuracy: 0.3669\n",
      "Epoch 5/10\n",
      "48000/48000 [==============================] - 2s 51us/sample - loss: 1.5990 - accuracy: 0.3671 - val_loss: 1.5870 - val_accuracy: 0.3702\n",
      "Epoch 6/10\n",
      "48000/48000 [==============================] - 4s 81us/sample - loss: 1.5959 - accuracy: 0.3702 - val_loss: 1.5976 - val_accuracy: 0.3693\n",
      "Epoch 7/10\n",
      "48000/48000 [==============================] - 3s 66us/sample - loss: 1.5939 - accuracy: 0.3729 - val_loss: 1.5886 - val_accuracy: 0.3702\n",
      "Epoch 8/10\n",
      "48000/48000 [==============================] - 3s 63us/sample - loss: 1.5929 - accuracy: 0.3719 - val_loss: 1.5912 - val_accuracy: 0.3672\n",
      "Epoch 9/10\n",
      "48000/48000 [==============================] - 4s 77us/sample - loss: 1.5915 - accuracy: 0.3722 - val_loss: 1.5835 - val_accuracy: 0.3766\n",
      "Epoch 10/10\n",
      "48000/48000 [==============================] - 2s 44us/sample - loss: 1.5904 - accuracy: 0.3729 - val_loss: 1.5856 - val_accuracy: 0.3715\n"
     ]
    }
   ],
   "source": [
    "start_time = time.time()\n",
    "#treino do modelo\n",
    "history_a = model_a.fit(train_images_a, train_labels, epochs=10, validation_split=0.2, shuffle=True)\n",
    "end_time = time.time()"
   ]
  },
  {
   "cell_type": "code",
   "execution_count": 37,
   "metadata": {},
   "outputs": [
    {
     "data": {
      "text/plain": [
       "2.8927289724349974"
      ]
     },
     "execution_count": 37,
     "metadata": {},
     "output_type": "execute_result"
    }
   ],
   "source": [
    "#tempo de treino por época\n",
    "((end_time-start_time)/10)"
   ]
  },
  {
   "cell_type": "code",
   "execution_count": 38,
   "metadata": {},
   "outputs": [
    {
     "data": {
      "image/png": "[encoded data removed]",
      "text/plain": [
       "<Figure size 432x288 with 1 Axes>"
      ]
     },
     "metadata": {
      "needs_background": "light"
     },
     "output_type": "display_data"
    }
   ],
   "source": [
    "# Grafico para analise de custo do treino e da validacao\n",
    "plt.plot(history_a.history['loss'])\n",
    "plt.plot(history_a.history['val_loss'])\n",
    "plt.title('Model loss')\n",
    "plt.ylabel('Loss')\n",
    "plt.xlabel('Epoch')\n",
    "plt.legend(['Train', 'Validation'], loc='upper left')\n",
    "plt.show()"
   ]
  },
  {
   "cell_type": "code",
   "execution_count": 39,
   "metadata": {},
   "outputs": [
    {
     "name": "stdout",
     "output_type": "stream",
     "text": [
      "WARNING:tensorflow:Falling back from v2 loop because of error: Failed to find data adapter that can handle input: <class 'pandas.core.frame.DataFrame'>, <class 'NoneType'>\n",
      "10000/10000 [==============================] - 0s 18us/sample - loss: 1.5861 - accuracy: 0.3731\n",
      "Modelo usando features reduzidas pelo autoencoder - test loss: 158.60513771057128\n",
      "Modelo usando features reduzidas pelo autoencoder - test accuracy: 37.310001254081726\n"
     ]
    }
   ],
   "source": [
    "test_loss, test_acc = model_a.evaluate(test_images_a, test_labels)\n",
    "print(\"Modelo usando features reduzidas pelo autoencoder - test loss:\", test_loss * 100)\n",
    "print(\"Modelo usando features reduzidas pelo autoencoder - test accuracy:\", test_acc * 100)"
   ]
  },
  {
   "cell_type": "markdown",
   "metadata": {},
   "source": [
    "-----------------------\n",
    "## Clusteting com o K-means"
   ]
  },
  {
   "cell_type": "markdown",
   "metadata": {},
   "source": [
    "**Importando bibliotecas**"
   ]
  },
  {
   "cell_type": "code",
   "execution_count": 40,
   "metadata": {},
   "outputs": [],
   "source": [
    "from sklearn.cluster import KMeans\n",
    "from sklearn.metrics import silhouette_samples, silhouette_score\n",
    "import matplotlib.pyplot as plt\n",
    "from mpl_toolkits.mplot3d import Axes3D"
   ]
  },
  {
   "cell_type": "markdown",
   "metadata": {},
   "source": [
    "**Optamos pela utilização das imagens reduzidas por meio do PCA, já que obtiveram por meio deste modelo os melhores resultados de predição na rede neural.**"
   ]
  },
  {
   "cell_type": "code",
   "execution_count": 41,
   "metadata": {},
   "outputs": [],
   "source": [
    "train_images_k = train_images_r\n",
    "test_images_k = test_images_r"
   ]
  },
  {
   "cell_type": "markdown",
   "metadata": {},
   "source": [
    "**Construção do modelo e execução do k-means com 10 clusters.**"
   ]
  },
  {
   "cell_type": "code",
   "execution_count": 42,
   "metadata": {},
   "outputs": [],
   "source": [
    "#instanciacao do modelo com 10 clusters\n",
    "kmean_model = KMeans(n_clusters=10, random_state=10)\n",
    "#execucao do kmeans\n",
    "kmean_model.fit(train_images_k)\n",
    "#retorno dos labels dos clusteres gerados por meio do kmeans\n",
    "labels = kmean_model.labels_"
   ]
  },
  {
   "cell_type": "code",
   "execution_count": 43,
   "metadata": {},
   "outputs": [],
   "source": [
    "#retorno das centroids geradas pelo kmeans\n",
    "cluster_centroids = kmean_model.cluster_centers_"
   ]
  },
  {
   "cell_type": "markdown",
   "metadata": {},
   "source": [
    "**Coeficiente de Silhouette**"
   ]
  },
  {
   "cell_type": "code",
   "execution_count": 44,
   "metadata": {},
   "outputs": [
    {
     "data": {
      "text/plain": [
       "0.3633611147384355"
      ]
     },
     "execution_count": 44,
     "metadata": {},
     "output_type": "execute_result"
    }
   ],
   "source": [
    "silhouette_score(X = train_images_k, labels = labels, random_state = 10)"
   ]
  },
  {
   "cell_type": "markdown",
   "metadata": {},
   "source": [
    "**V-measure Score**"
   ]
  },
  {
   "cell_type": "code",
   "execution_count": 45,
   "metadata": {},
   "outputs": [
    {
     "data": {
      "text/plain": [
       "0.4455785750478227"
      ]
     },
     "execution_count": 45,
     "metadata": {},
     "output_type": "execute_result"
    }
   ],
   "source": [
    "metrics.v_measure_score(train_labels.values.ravel(), labels, beta=1.0)"
   ]
  },
  {
   "cell_type": "markdown",
   "metadata": {},
   "source": [
    "**Gráfico plotado utilizando os pontos com coordenadas geradas por meio do PLC com as classificações (i.e. labels) reais**"
   ]
  },
  {
   "cell_type": "code",
   "execution_count": 46,
   "metadata": {},
   "outputs": [
    {
     "data": {
      "image/png": "[encoded data removed]",
      "text/plain": [
       "<Figure size 432x288 with 1 Axes>"
      ]
     },
     "metadata": {
      "needs_background": "light"
     },
     "output_type": "display_data"
    }
   ],
   "source": [
    "# Plotting train_images with classification\n",
    "fig = plt.figure()\n",
    "ax = fig.gca(projection='3d')\n",
    "\n",
    "unique_labels = set(train_labels.values.flatten())\n",
    "colors = [plt.cm.Spectral(each)\n",
    "          for each in np.linspace(0, 1, len(unique_labels))]\n",
    "\n",
    "train_images_np = train_images_r.values\n",
    "\n",
    "last_k = -1\n",
    "for k, col in zip(unique_labels, colors):\n",
    "    \n",
    "    class_member_mask = (train_labels == k)\n",
    "    indices = np.where(class_member_mask == True)\n",
    "    for index in indices:\n",
    "        ax.plot(train_images_np[index, 0], train_images_np[index, 1], train_images_np[index, 2],'o', markerfacecolor=tuple(col),\n",
    "            markeredgecolor='k', markersize=6, label=f\"classe: {k}\" if k == last_k else \"\")\n",
    "        last_k = k\n",
    "    \n",
    "ax.legend()\n",
    "plt.show()"
   ]
  },
  {
   "cell_type": "markdown",
   "metadata": {},
   "source": [
    "**Gráfico plotado os pontos com coordenadas geradas por meio do PLC com seus clusters e respectivas centróides gerados por meio do K-means.**"
   ]
  },
  {
   "cell_type": "code",
   "execution_count": 47,
   "metadata": {},
   "outputs": [
    {
     "data": {
      "image/png": "[encoded data removed]",
      "text/plain": [
       "<Figure size 432x288 with 1 Axes>"
      ]
     },
     "metadata": {
      "needs_background": "light"
     },
     "output_type": "display_data"
    }
   ],
   "source": [
    "fig = plt.figure()\n",
    "ax = fig.gca(projection='3d')\n",
    "\n",
    "unique_labels = set(labels)\n",
    "colors = [plt.cm.Spectral(each)\n",
    "          for each in np.linspace(0, 1, len(unique_labels))]\n",
    "\n",
    "for k, col in zip(unique_labels, colors):\n",
    "    \n",
    "    class_member_mask = (labels == k)\n",
    "    indices = np.where(class_member_mask == True)\n",
    "    for index in indices:\n",
    "        ax.plot(train_images_np[index, 0], train_images_np[index, 1], train_images_np[index, 2],'o', markerfacecolor=tuple(col),\n",
    "            markeredgecolor='k', markersize=6, label=f\"cluster: {k}\")\n",
    "\n",
    "#Plotting cluster centroids\n",
    "ax.plot(cluster_centroids[:, 0], cluster_centroids[:, 1], cluster_centroids[:, 2],'*', markerfacecolor=tuple([1, 1, 1, 1]),\n",
    "            markersize=14, label=\"centroids\")\n",
    "\n",
    "ax.legend()\n",
    "plt.show()"
   ]
  },
  {
   "cell_type": "markdown",
   "metadata": {},
   "source": [
    "---------------------------------\n",
    "## Clustering com o DBScan\n"
   ]
  },
  {
   "cell_type": "markdown",
   "metadata": {},
   "source": [
    "**Importação de Bibliotecas**"
   ]
  },
  {
   "cell_type": "code",
   "execution_count": 92,
   "metadata": {},
   "outputs": [],
   "source": [
    "from sklearn.cluster import DBSCAN\n",
    "from sklearn.neighbors import NearestNeighbors"
   ]
  },
  {
   "cell_type": "markdown",
   "metadata": {},
   "source": [
    "**Optamos pela utilização das imagens reduzidas por meio do PCA, já que obtiveram por meio deste modelo os melhores resultados de predição na rede neural.**"
   ]
  },
  {
   "cell_type": "code",
   "execution_count": 93,
   "metadata": {},
   "outputs": [],
   "source": [
    "#features geradas por meio do PCA\n",
    "train_images_dbscan = train_images_r\n",
    "test_images_dbscan = test_images_r"
   ]
  },
  {
   "cell_type": "markdown",
   "metadata": {},
   "source": [
    "**Cálculo do melhor valor para o parâmetro épsilon.**"
   ]
  },
  {
   "cell_type": "code",
   "execution_count": 94,
   "metadata": {},
   "outputs": [
    {
     "data": {
      "text/plain": [
       "[<matplotlib.lines.Line2D at 0x1a40ae1c88>]"
      ]
     },
     "execution_count": 94,
     "metadata": {},
     "output_type": "execute_result"
    },
    {
     "data": {
      "image/png": "[encoded data removed]",
      "text/plain": [
       "<Figure size 432x288 with 1 Axes>"
      ]
     },
     "metadata": {
      "needs_background": "light"
     },
     "output_type": "display_data"
    }
   ],
   "source": [
    "#Calculando melhor valor para o parametro épsilon\n",
    "neigh = NearestNeighbors(n_neighbors=10)\n",
    "nbrs = neigh.fit(train_images_dbscan)\n",
    "distances, indices = nbrs.kneighbors(train_images_dbscan)\n",
    "\n",
    "distances = np.sort(distances, axis=0)\n",
    "distances = distances[:,1]\n",
    "plt.plot(distances)\n"
   ]
  },
  {
   "cell_type": "markdown",
   "metadata": {},
   "source": [
    "**Execução do DBSCan**"
   ]
  },
  {
   "cell_type": "code",
   "execution_count": null,
   "metadata": {},
   "outputs": [
    {
     "name": "stdout",
     "output_type": "stream",
     "text": [
      "Estimated number of clusters: 7\n",
      "Estimated number of noise points: 44342\n",
      "Homogeneity: 0.201\n",
      "Completeness: 0.568\n",
      "V-measure: 0.297\n",
      "Adjusted Rand Index: 0.077\n",
      "Adjusted Mutual Information: 0.296\n"
     ]
    }
   ],
   "source": [
    "# Executando o algoritmo DBSCAN\n",
    "db = DBSCAN(eps=0.38, min_samples=100).fit(train_images_dbscan)\n",
    "core_samples_mask = np.zeros_like(db.labels_, dtype=bool)\n",
    "core_samples_mask[db.core_sample_indices_] = True\n",
    "labels = db.labels_\n",
    "\n",
    "# Numero de clusters nas labels, ignorando o noise.\n",
    "n_clusters_ = len(set(labels)) - (1 if -1 in labels else 0)\n",
    "n_noise_ = list(labels).count(-1)\n",
    "\n",
    "labels_true = train_labels.values.flatten()\n",
    "\n",
    "print('Estimated number of clusters: %d' % n_clusters_)\n",
    "print('Estimated number of noise points: %d' % n_noise_)\n",
    "print(\"Homogeneity: %0.3f\" % metrics.homogeneity_score(labels_true, labels))\n",
    "print(\"Completeness: %0.3f\" % metrics.completeness_score(labels_true, labels))\n",
    "print(\"V-measure: %0.3f\" % metrics.v_measure_score(labels_true, labels))\n",
    "print(\"Adjusted Rand Index: %0.3f\"\n",
    "      % metrics.adjusted_rand_score(labels_true, labels))\n",
    "print(\"Adjusted Mutual Information: %0.3f\"\n",
    "      % metrics.adjusted_mutual_info_score(labels_true, labels,\n",
    "                                           average_method='arithmetic'))\n",
    "print(\"Silhouette Coefficient: %0.3f\"\n",
    "      % metrics.silhouette_score(train_images_dbscan, labels))"
   ]
  },
  {
   "cell_type": "markdown",
   "metadata": {},
   "source": [
    "**Gráfico plotado os pontos com coordenadas geradas por meio do PLC com seus clusters produzidos por meio do DBScan.**"
   ]
  },
  {
   "cell_type": "code",
   "execution_count": null,
   "metadata": {},
   "outputs": [],
   "source": [
    "\n",
    "# Plotando o resultado\n",
    "fig = plt.figure()\n",
    "ax = fig.gca(projection='3d')\n",
    "\n",
    "# Preto removido e utilizado para noise\n",
    "unique_labels = set(labels)\n",
    "colors = [plt.cm.Spectral(each)\n",
    "          for each in np.linspace(0, 1, len(unique_labels))]\n",
    "\n",
    "train_images_dbscan_np = train_images_dbscan.values\n",
    "\n",
    "last_k = -1\n",
    "for k, col in zip(unique_labels, colors):\n",
    "    if k == -1:\n",
    "        # Preto utilizado para noise.\n",
    "        col = [0, 0, 0, 1]\n",
    "    else:\n",
    "\n",
    "        class_member_mask = (labels == k)\n",
    "\n",
    "        xy = train_images_dbscan_np[class_member_mask & core_samples_mask]\n",
    "    #     ax.plot(xy[:3, 0], xy[:3, 1], xy[:3, 2], c=tuple(col))\n",
    "\n",
    "        ax.plot(xy[:, 0], xy[:, 1], xy[:, 2],'o', markerfacecolor=tuple(col),\n",
    "                 markeredgecolor='k', markersize=14, label=f\"cluster: {k}\" if k == last_k else \"\")\n",
    "        \n",
    "        last_k = k\n",
    "        \n",
    "        xy = train_images_dbscan_np[class_member_mask & ~core_samples_mask]\n",
    "    #     ax.plot(xy[:3, 0], xy[:3, 1], xy[:3, 2], c=tuple(col))\n",
    "        ax.plot(xy[:, 0], xy[:, 1], xy[:, 2],'o', markerfacecolor=tuple(col),\n",
    "                 markeredgecolor='k', markersize=6, label=f\"cluster: {k}\" if k == last_k else \"\")\n",
    "    \n",
    "        \n",
    "ax.legend()\n",
    "plt.show()"
   ]
  },
  {
   "cell_type": "code",
   "execution_count": null,
   "metadata": {},
   "outputs": [],
   "source": []
  },
  {
   "cell_type": "code",
   "execution_count": null,
   "metadata": {},
   "outputs": [],
   "source": []
  },
  {
   "cell_type": "code",
   "execution_count": null,
   "metadata": {},
   "outputs": [],
   "source": []
  },
  {
   "cell_type": "code",
   "execution_count": null,
   "metadata": {},
   "outputs": [],
   "source": []
  }
 ],
 "metadata": {
  "kernelspec": {
   "display_name": "Python 3",
   "language": "python",
   "name": "python3"
  },
  "language_info": {
   "codemirror_mode": {
    "name": "ipython",
    "version": 3
   },
   "file_extension": ".py",
   "mimetype": "text/x-python",
   "name": "python",
   "nbconvert_exporter": "python",
   "pygments_lexer": "ipython3",
   "version": "3.7.3"
  }
 },
 "nbformat": 4,
 "nbformat_minor": 4
}
